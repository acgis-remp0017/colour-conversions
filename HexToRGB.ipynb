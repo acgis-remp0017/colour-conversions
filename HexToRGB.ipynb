{
 "cells": [
  {
   "cell_type": "code",
   "execution_count": 3,
   "metadata": {},
   "outputs": [],
   "source": [
    "def hex_to_rbg(hex):\n",
    "    colours = [hex[1:3], hex[3:5], hex[5:7]]\n",
    "    return tuple([int(colour, 16) for colour in colours])"
   ]
  },
  {
   "cell_type": "code",
   "execution_count": 4,
   "metadata": {},
   "outputs": [
    {
     "data": {
      "text/plain": [
       "(9, 9, 121)"
      ]
     },
     "execution_count": 4,
     "metadata": {},
     "output_type": "execute_result"
    }
   ],
   "source": [
    "hex_to_rbg(\"#090979\")"
   ]
  },
  {
   "cell_type": "code",
   "execution_count": null,
   "metadata": {},
   "outputs": [],
   "source": [
    "import colorsys\n",
    "\n",
    "\n",
    "def rgb_to_hsv(red, green, blue):\n",
    "    red_frac, green_frac, blue_frac = [val/255 for val in (red, green, blue)]\n",
    "    hue_frac, saturation_frac, value_frac = colorsys.rgb_to_hsv(red_frac, green_frac, blue_frac)\n",
    "    saturation, value = [round(val * 255) for val in (saturation_frac, value_frac)]\n",
    "    hue = round(hue_frac * 360)\n",
    "    return hue, saturation, value"
   ]
  },
  {
   "cell_type": "code",
   "execution_count": null,
   "metadata": {},
   "outputs": [],
   "source": [
    "def format_colour(name, colour):\n",
    "    red, green, blue = hex_to_rbg(colour)\n",
    "    hue, saturation, value = rgb_to_hsv(red, green, blue)\n",
    "    return f\"{name}\\t{red}\\t{green}\\t{blue}\\t{hue}\\t{saturation}\\t{value}\""
   ]
  },
  {
   "cell_type": "code",
   "execution_count": null,
   "metadata": {},
   "outputs": [],
   "source": [
    "import re\n",
    "\n",
    "\n",
    "colour_pattern = re.compile(r\"([\\w -]+): (#[a-zA-Z\\d]{6})\")\n",
    "def parse_palette(string):\n",
    "    return colour_pattern.findall(string)\n",
    "\n",
    "def format_palette(palette):\n",
    "    print(\"\\n\".join([format_colour(name, colour) for name, colour in palette]))\n",
    "\n",
    "def transform_palette(string):\n",
    "    format_palette(parse_palette(string))"
   ]
  },
  {
   "cell_type": "code",
   "execution_count": null,
   "metadata": {},
   "outputs": [
    {
     "name": "stdout",
     "output_type": "stream",
     "text": [
      "Pale yellow\t246\t249\t181\t63\t70\t249\n",
      "Light yellow\t231\t233\t86\t61\t161\t233\n",
      "Light orange\t230\t185\t73\t43\t174\t230\n",
      "Orange-red\t208\t125\t44\t30\t201\t208\n",
      "Dark red\t164\t11\t11\t0\t238\t164\n"
     ]
    }
   ],
   "source": [
    "palette_2 = [('Pale yellow', '#f6f9b5'), ('Light yellow', '#e7e956'), ('Light orange', \"#e6b949\"), ('Orange-red', '#d07d2c'), ('Dark red', '#a40b0b')]\n",
    "format_palette(palette_2)"
   ]
  },
  {
   "cell_type": "code",
   "execution_count": null,
   "metadata": {},
   "outputs": [
    {
     "name": "stdout",
     "output_type": "stream",
     "text": [
      "Very light red\t255\t216\t216\t0\t39\t255\n",
      "Light red\t236\t120\t120\t0\t125\t236\n",
      "Medium red\t219\t61\t61\t0\t184\t219\n",
      "Deeper red\t185\t32\t32\t0\t211\t185\n",
      "Dark red\t119\t0\t0\t0\t255\t119\n"
     ]
    }
   ],
   "source": [
    "palette_3 = \"\"\"\n",
    "Very light red: #ffd8d8\n",
    "Light red: #ec7878\n",
    "Medium red: #db3d3d\n",
    "Deeper red: #b92020\n",
    "Dark red: #770000\n",
    "\"\"\"\n",
    "\n",
    "transform_palette(palette_3)"
   ]
  },
  {
   "cell_type": "code",
   "execution_count": null,
   "metadata": {},
   "outputs": [
    {
     "name": "stdout",
     "output_type": "stream",
     "text": [
      "Rich blue\t34\t20\t229\t244\t233\t229\n",
      "Lighter blue\t104\t143\t211\t218\t129\t211\n",
      "Light grey\t199\t199\t199\t0\t0\t199\n",
      "Lighter red\t199\t118\t118\t0\t104\t199\n",
      "Dark red\t119\t0\t0\t0\t255\t119\n"
     ]
    }
   ],
   "source": [
    "transform_palette(\"\"\"\n",
    "Rich blue: #2214e5\n",
    "Lighter blue: #688fd3\n",
    "Light grey: #c7c7c7\n",
    "Lighter red: #c77676\n",
    "Dark red: #770000\n",
    "\"\"\")"
   ]
  },
  {
   "cell_type": "code",
   "execution_count": null,
   "metadata": {},
   "outputs": [
    {
     "name": "stdout",
     "output_type": "stream",
     "text": [
      "Light green\t169\t253\t119\t98\t135\t253\n",
      "Light red\t254\t172\t172\t0\t82\t254\n",
      "Light blue\t133\t253\t253\t180\t121\t253\n",
      "Light orange\t254\t232\t155\t47\t99\t254\n",
      "Light yellow\t250\t252\t152\t61\t101\t252\n"
     ]
    }
   ],
   "source": [
    "transform_palette(\"\"\"\n",
    "Light green: #a9fd77\n",
    "Light red: #feacac\n",
    "Light blue: #85fdfd\n",
    "Light orange: #fee89b\n",
    "Light yellow: #fafc98\n",
    "\"\"\")"
   ]
  },
  {
   "cell_type": "code",
   "execution_count": null,
   "metadata": {},
   "outputs": [
    {
     "name": "stdout",
     "output_type": "stream",
     "text": [
      "Light green\t169\t253\t119\t98\t135\t253\n"
     ]
    }
   ],
   "source": [
    "print(format_colour('Light green', '#a9fd77'))"
   ]
  }
 ],
 "metadata": {
  "kernelspec": {
   "display_name": "Python 3.9.5 ('gis4107')",
   "language": "python",
   "name": "python3"
  },
  "language_info": {
   "codemirror_mode": {
    "name": "ipython",
    "version": 3
   },
   "file_extension": ".py",
   "mimetype": "text/x-python",
   "name": "python",
   "nbconvert_exporter": "python",
   "pygments_lexer": "ipython3",
   "version": "3.9.5"
  },
  "orig_nbformat": 4,
  "vscode": {
   "interpreter": {
    "hash": "9092a591b85c3e5cb96a9cf4056b652b3bfa25153452dea60fdfde62d9b6e4c2"
   }
  }
 },
 "nbformat": 4,
 "nbformat_minor": 2
}
